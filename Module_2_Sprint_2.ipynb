{
 "cells": [
  {
   "cell_type": "markdown",
   "metadata": {},
   "source": [
    "## Введение"
   ]
  },
  {
   "cell_type": "markdown",
   "metadata": {},
   "source": []
  },
  {
   "cell_type": "markdown",
   "metadata": {},
   "source": [
    "Описание проекта:\n",
    "Отток клиентов\n",
    "Из «Бета-Банка» стали уходить клиенты. Каждый месяц. Немного, но заметно. Банковские маркетологи посчитали: сохранять текущих клиентов дешевле, чем привлекать новых.\n",
    "Нужно спрогнозировать, уйдёт клиент из банка в ближайшее время или нет. Нам предоставлены данные о поведении клиентов и расторжении договоров с банком.\n"
   ]
  },
  {
   "cell_type": "markdown",
   "metadata": {},
   "source": [
    "Алгоритм работы:\n",
    "   1. Введение\n",
    "   2. Обзор и предобработка данных\n",
    "   3. Разделим данные на обучающую, валидационную и тестовую выборки\n",
    "   4. Обучим разные модели без учета дисбаланса в классах\n",
    "   5. Повторим пункт 4 с учетом дисбаланса\n",
    "   6. Общий вывод\n",
    "\n",
    "Описание данных\n",
    "Данные находятся в файле /datasets/Churn.csv\n",
    "\n",
    "\n",
    "Известно:\n",
    "\n",
    "    RowNumber — индекс строки в данных\n",
    "    CustomerId — уникальный идентификатор клиента\n",
    "    Surname — фамилия\n",
    "    CreditScore — кредитный рейтинг\n",
    "    Geography — страна проживания\n",
    "    Gender — пол\n",
    "    Age — возраст\n",
    "    Tenure — сколько лет человек является клиентом банка\n",
    "    Balance — баланс на счёте\n",
    "    NumOfProducts — количество продуктов банка, используемых клиентом\n",
    "    HasCrCard — наличие кредитной карты\n",
    "    IsActiveMember — активность клиента\n",
    "    EstimatedSalary — предполагаемая зарплата\n",
    "\n",
    "Целевой признак:\n",
    "\n",
    "    Exited — факт ухода клиента"
   ]
  },
  {
   "cell_type": "markdown",
   "metadata": {},
   "source": [
    "## Обзор и предобработка данных"
   ]
  },
  {
   "cell_type": "markdown",
   "metadata": {},
   "source": [
    "Импортируем библиотеки"
   ]
  },
  {
   "cell_type": "code",
   "execution_count": 24,
   "metadata": {
    "pycharm": {
     "name": "#%%\n"
    }
   },
   "outputs": [],
   "source": [
    "import urllib.request\n",
    "import pandas as pd\n",
    "\n",
    "from os import path\n",
    "from pathlib import Path\n",
    "\n",
    "from sklearn.model_selection import GridSearchCV\n",
    "from sklearn.pipeline import Pipeline\n",
    "from sklearn.linear_model import LogisticRegression\n",
    "from sklearn.tree import DecisionTreeClassifier\n",
    "from sklearn.ensemble import RandomForestClassifier\n",
    "from sklearn.model_selection import train_test_split\n",
    "from sklearn.metrics import f1_score\n",
    "from sklearn.metrics import roc_auc_score\n",
    "from sklearn.utils import shuffle"
   ]
  },
  {
   "cell_type": "markdown",
   "metadata": {},
   "source": [
    "Загрузим и посмотрим датасет"
   ]
  },
  {
   "cell_type": "code",
   "execution_count": 25,
   "metadata": {
    "pycharm": {
     "name": "#%%\n"
    }
   },
   "outputs": [
    {
     "name": "stdout",
     "output_type": "stream",
     "text": [
      "<class 'pandas.core.frame.DataFrame'>\n",
      "RangeIndex: 10000 entries, 0 to 9999\n",
      "Data columns (total 14 columns):\n",
      " #   Column           Non-Null Count  Dtype  \n",
      "---  ------           --------------  -----  \n",
      " 0   RowNumber        10000 non-null  int64  \n",
      " 1   CustomerId       10000 non-null  int64  \n",
      " 2   Surname          10000 non-null  object \n",
      " 3   CreditScore      10000 non-null  int64  \n",
      " 4   Geography        10000 non-null  object \n",
      " 5   Gender           10000 non-null  object \n",
      " 6   Age              10000 non-null  int64  \n",
      " 7   Tenure           9091 non-null   float64\n",
      " 8   Balance          10000 non-null  float64\n",
      " 9   NumOfProducts    10000 non-null  int64  \n",
      " 10  HasCrCard        10000 non-null  int64  \n",
      " 11  IsActiveMember   10000 non-null  int64  \n",
      " 12  EstimatedSalary  10000 non-null  float64\n",
      " 13  Exited           10000 non-null  int64  \n",
      "dtypes: float64(3), int64(8), object(3)\n",
      "memory usage: 1.1+ MB\n"
     ]
    }
   ],
   "source": [
    "YANDEX_DATASETS_PATH = 'https://code.s3.yandex.net/datasets/'\n",
    "dataset_folder = 'datasets'\n",
    "dataset_name = 'Churn.csv'\n",
    "\n",
    "#download dataset if not existed\n",
    "if not path.exists(dataset_folder + '/' + dataset_name):\n",
    "    #create dir if not existed\n",
    "    Path(dataset_folder).mkdir(parents=True, exist_ok=True)\n",
    "\n",
    "    #download dataset\n",
    "    urllib.request.urlretrieve(YANDEX_DATASETS_PATH + dataset_name,\n",
    "                               dataset_folder + '/' + dataset_name)\n",
    "\n",
    "df = pd.read_csv(dataset_folder + '/' + dataset_name)\n",
    "df.info()"
   ]
  },
  {
   "cell_type": "markdown",
   "metadata": {
    "pycharm": {
     "name": "#%% md\n"
    }
   },
   "source": [
    "Имеются пропуски в параметре Tenure. Посмотрим гистограммы"
   ]
  },
  {
   "cell_type": "code",
   "execution_count": 26,
   "metadata": {
    "pycharm": {
     "name": "#%%\n"
    }
   },
   "outputs": [
    {
     "data": {
      "text/plain": [
       "array([[<AxesSubplot:title={'center':'RowNumber'}>,\n",
       "        <AxesSubplot:title={'center':'CustomerId'}>,\n",
       "        <AxesSubplot:title={'center':'CreditScore'}>],\n",
       "       [<AxesSubplot:title={'center':'Age'}>,\n",
       "        <AxesSubplot:title={'center':'Tenure'}>,\n",
       "        <AxesSubplot:title={'center':'Balance'}>],\n",
       "       [<AxesSubplot:title={'center':'NumOfProducts'}>,\n",
       "        <AxesSubplot:title={'center':'HasCrCard'}>,\n",
       "        <AxesSubplot:title={'center':'IsActiveMember'}>],\n",
       "       [<AxesSubplot:title={'center':'EstimatedSalary'}>,\n",
       "        <AxesSubplot:title={'center':'Exited'}>, <AxesSubplot:>]],\n",
       "      dtype=object)"
      ]
     },
     "execution_count": 26,
     "metadata": {},
     "output_type": "execute_result"
    },
    {
     "data": {
      "image/png": "[encoded data removed]",
      "text/plain": [
       "<Figure size 1080x1080 with 12 Axes>"
      ]
     },
     "metadata": {
      "needs_background": "light"
     },
     "output_type": "display_data"
    }
   ],
   "source": [
    "df.hist(figsize=(15,15))"
   ]
  },
  {
   "cell_type": "markdown",
   "metadata": {
    "pycharm": {
     "name": "#%% md\n"
    }
   },
   "source": [
    "Вывод: целевой параметр 'Exited' имеет сильный перекос в сторону нулей"
   ]
  },
  {
   "cell_type": "markdown",
   "metadata": {
    "pycharm": {
     "name": "#%% md\n"
    }
   },
   "source": [
    "Посмотрим значения категориальных столбцов"
   ]
  },
  {
   "cell_type": "code",
   "execution_count": 27,
   "metadata": {
    "pycharm": {
     "name": "#%%\n"
    }
   },
   "outputs": [
    {
     "data": {
      "text/plain": [
       "France     5014\n",
       "Germany    2509\n",
       "Spain      2477\n",
       "Name: Geography, dtype: int64"
      ]
     },
     "execution_count": 27,
     "metadata": {},
     "output_type": "execute_result"
    }
   ],
   "source": [
    "df['Geography'].value_counts()"
   ]
  },
  {
   "cell_type": "code",
   "execution_count": 28,
   "metadata": {
    "pycharm": {
     "name": "#%%\n"
    }
   },
   "outputs": [
    {
     "data": {
      "text/plain": [
       "Male      5457\n",
       "Female    4543\n",
       "Name: Gender, dtype: int64"
      ]
     },
     "execution_count": 28,
     "metadata": {},
     "output_type": "execute_result"
    }
   ],
   "source": [
    "df['Gender'].value_counts()"
   ]
  },
  {
   "cell_type": "markdown",
   "metadata": {
    "pycharm": {
     "name": "#%% md\n"
    }
   },
   "source": [
    "Проверим дупликаты"
   ]
  },
  {
   "cell_type": "code",
   "execution_count": 29,
   "metadata": {
    "pycharm": {
     "name": "#%%\n"
    }
   },
   "outputs": [
    {
     "data": {
      "text/plain": [
       "0"
      ]
     },
     "execution_count": 29,
     "metadata": {},
     "output_type": "execute_result"
    }
   ],
   "source": [
    "df.duplicated().sum()"
   ]
  },
  {
   "cell_type": "markdown",
   "metadata": {
    "pycharm": {
     "name": "#%% md\n"
    }
   },
   "source": [
    "Заполним пропуски в 'Tenure' медианными значениями. Для этого посмотрим корреляцию этого параметра с остальными. На основании этого сделаем сводную таблицу через которую заполним пропуски"
   ]
  },
  {
   "cell_type": "code",
   "execution_count": 30,
   "metadata": {
    "pycharm": {
     "name": "#%%\n"
    }
   },
   "outputs": [
    {
     "data": {
      "text/plain": [
       "RowNumber         -0.007322\n",
       "CustomerId        -0.021418\n",
       "CreditScore       -0.000062\n",
       "Age               -0.013134\n",
       "Tenure             1.000000\n",
       "Balance           -0.007911\n",
       "NumOfProducts      0.011979\n",
       "HasCrCard          0.027232\n",
       "IsActiveMember    -0.032178\n",
       "EstimatedSalary    0.010520\n",
       "Exited            -0.016761\n",
       "Name: Tenure, dtype: float64"
      ]
     },
     "execution_count": 30,
     "metadata": {},
     "output_type": "execute_result"
    }
   ],
   "source": [
    "df.corr()['Tenure']"
   ]
  },
  {
   "cell_type": "markdown",
   "metadata": {
    "pycharm": {
     "name": "#%% md\n"
    }
   },
   "source": [
    "Наибольшая корреляция из значимых признаков с 'IsActiveMember' и 'HasCrCard'. Заполним пропуски"
   ]
  },
  {
   "cell_type": "code",
   "execution_count": 31,
   "metadata": {
    "pycharm": {
     "name": "#%%\n"
    }
   },
   "outputs": [],
   "source": [
    "df['Tenure'] = df.groupby(['IsActiveMember', 'HasCrCard' ])['Tenure'].apply(lambda x: x.fillna(x.median()))"
   ]
  },
  {
   "cell_type": "markdown",
   "metadata": {
    "pycharm": {
     "name": "#%% md\n"
    }
   },
   "source": [
    "Удалим ненужные признаки из датасета и выполним One-Hot Encoding категориальных значений"
   ]
  },
  {
   "cell_type": "code",
   "execution_count": 32,
   "metadata": {
    "pycharm": {
     "name": "#%%\n"
    }
   },
   "outputs": [],
   "source": [
    "df = df.drop(['RowNumber', 'CustomerId', 'Surname'], axis=1)\n",
    "df = pd.get_dummies(df, drop_first=True)"
   ]
  },
  {
   "cell_type": "markdown",
   "metadata": {
    "pycharm": {
     "name": "#%% md\n"
    }
   },
   "source": [
    "Посмотрим результат"
   ]
  },
  {
   "cell_type": "code",
   "execution_count": 33,
   "metadata": {
    "pycharm": {
     "name": "#%%\n"
    }
   },
   "outputs": [
    {
     "name": "stdout",
     "output_type": "stream",
     "text": [
      "<class 'pandas.core.frame.DataFrame'>\n",
      "RangeIndex: 10000 entries, 0 to 9999\n",
      "Data columns (total 12 columns):\n",
      " #   Column             Non-Null Count  Dtype  \n",
      "---  ------             --------------  -----  \n",
      " 0   CreditScore        10000 non-null  int64  \n",
      " 1   Age                10000 non-null  int64  \n",
      " 2   Tenure             10000 non-null  float64\n",
      " 3   Balance            10000 non-null  float64\n",
      " 4   NumOfProducts      10000 non-null  int64  \n",
      " 5   HasCrCard          10000 non-null  int64  \n",
      " 6   IsActiveMember     10000 non-null  int64  \n",
      " 7   EstimatedSalary    10000 non-null  float64\n",
      " 8   Exited             10000 non-null  int64  \n",
      " 9   Geography_Germany  10000 non-null  uint8  \n",
      " 10  Geography_Spain    10000 non-null  uint8  \n",
      " 11  Gender_Male        10000 non-null  uint8  \n",
      "dtypes: float64(3), int64(6), uint8(3)\n",
      "memory usage: 732.5 KB\n"
     ]
    }
   ],
   "source": [
    "df.info()"
   ]
  },
  {
   "cell_type": "code",
   "execution_count": 34,
   "metadata": {
    "pycharm": {
     "name": "#%%\n"
    }
   },
   "outputs": [
    {
     "data": {
      "text/html": [
       "<div>\n",
       "<style scoped>\n",
       "    .dataframe tbody tr th:only-of-type {\n",
       "        vertical-align: middle;\n",
       "    }\n",
       "\n",
       "    .dataframe tbody tr th {\n",
       "        vertical-align: top;\n",
       "    }\n",
       "\n",
       "    .dataframe thead th {\n",
       "        text-align: right;\n",
       "    }\n",
       "</style>\n",
       "<table border=\"1\" class=\"dataframe\">\n",
       "  <thead>\n",
       "    <tr style=\"text-align: right;\">\n",
       "      <th></th>\n",
       "      <th>CreditScore</th>\n",
       "      <th>Age</th>\n",
       "      <th>Tenure</th>\n",
       "      <th>Balance</th>\n",
       "      <th>NumOfProducts</th>\n",
       "      <th>HasCrCard</th>\n",
       "      <th>IsActiveMember</th>\n",
       "      <th>EstimatedSalary</th>\n",
       "      <th>Exited</th>\n",
       "      <th>Geography_Germany</th>\n",
       "      <th>Geography_Spain</th>\n",
       "      <th>Gender_Male</th>\n",
       "    </tr>\n",
       "  </thead>\n",
       "  <tbody>\n",
       "    <tr>\n",
       "      <th>0</th>\n",
       "      <td>619</td>\n",
       "      <td>42</td>\n",
       "      <td>2.0</td>\n",
       "      <td>0.00</td>\n",
       "      <td>1</td>\n",
       "      <td>1</td>\n",
       "      <td>1</td>\n",
       "      <td>101348.88</td>\n",
       "      <td>1</td>\n",
       "      <td>0</td>\n",
       "      <td>0</td>\n",
       "      <td>0</td>\n",
       "    </tr>\n",
       "    <tr>\n",
       "      <th>1</th>\n",
       "      <td>608</td>\n",
       "      <td>41</td>\n",
       "      <td>1.0</td>\n",
       "      <td>83807.86</td>\n",
       "      <td>1</td>\n",
       "      <td>0</td>\n",
       "      <td>1</td>\n",
       "      <td>112542.58</td>\n",
       "      <td>0</td>\n",
       "      <td>0</td>\n",
       "      <td>1</td>\n",
       "      <td>0</td>\n",
       "    </tr>\n",
       "    <tr>\n",
       "      <th>2</th>\n",
       "      <td>502</td>\n",
       "      <td>42</td>\n",
       "      <td>8.0</td>\n",
       "      <td>159660.80</td>\n",
       "      <td>3</td>\n",
       "      <td>1</td>\n",
       "      <td>0</td>\n",
       "      <td>113931.57</td>\n",
       "      <td>1</td>\n",
       "      <td>0</td>\n",
       "      <td>0</td>\n",
       "      <td>0</td>\n",
       "    </tr>\n",
       "    <tr>\n",
       "      <th>3</th>\n",
       "      <td>699</td>\n",
       "      <td>39</td>\n",
       "      <td>1.0</td>\n",
       "      <td>0.00</td>\n",
       "      <td>2</td>\n",
       "      <td>0</td>\n",
       "      <td>0</td>\n",
       "      <td>93826.63</td>\n",
       "      <td>0</td>\n",
       "      <td>0</td>\n",
       "      <td>0</td>\n",
       "      <td>0</td>\n",
       "    </tr>\n",
       "    <tr>\n",
       "      <th>4</th>\n",
       "      <td>850</td>\n",
       "      <td>43</td>\n",
       "      <td>2.0</td>\n",
       "      <td>125510.82</td>\n",
       "      <td>1</td>\n",
       "      <td>1</td>\n",
       "      <td>1</td>\n",
       "      <td>79084.10</td>\n",
       "      <td>0</td>\n",
       "      <td>0</td>\n",
       "      <td>1</td>\n",
       "      <td>0</td>\n",
       "    </tr>\n",
       "  </tbody>\n",
       "</table>\n",
       "</div>"
      ],
      "text/plain": [
       "   CreditScore  Age  Tenure    Balance  NumOfProducts  HasCrCard  \\\n",
       "0          619   42     2.0       0.00              1          1   \n",
       "1          608   41     1.0   83807.86              1          0   \n",
       "2          502   42     8.0  159660.80              3          1   \n",
       "3          699   39     1.0       0.00              2          0   \n",
       "4          850   43     2.0  125510.82              1          1   \n",
       "\n",
       "   IsActiveMember  EstimatedSalary  Exited  Geography_Germany  \\\n",
       "0               1        101348.88       1                  0   \n",
       "1               1        112542.58       0                  0   \n",
       "2               0        113931.57       1                  0   \n",
       "3               0         93826.63       0                  0   \n",
       "4               1         79084.10       0                  0   \n",
       "\n",
       "   Geography_Spain  Gender_Male  \n",
       "0                0            0  \n",
       "1                1            0  \n",
       "2                0            0  \n",
       "3                0            0  \n",
       "4                1            0  "
      ]
     },
     "execution_count": 34,
     "metadata": {},
     "output_type": "execute_result"
    }
   ],
   "source": [
    "df.head()"
   ]
  },
  {
   "cell_type": "markdown",
   "metadata": {
    "pycharm": {
     "name": "#%% md\n"
    }
   },
   "source": [
    "Вывод: мы выполнили прямое кодирование категориальных признаков и заполнили пропуски. Целевой признак несбалансирован в сторону \"0\""
   ]
  },
  {
   "cell_type": "markdown",
   "metadata": {
    "pycharm": {
     "name": "#%% md\n"
    }
   },
   "source": [
    "## Разделение данных на обучающую, валидационную и тестовую выборки"
   ]
  },
  {
   "cell_type": "markdown",
   "metadata": {
    "pycharm": {
     "name": "#%% md\n"
    }
   },
   "source": [
    "Разделим данные на обучающую, валидационную и тестовую выборки. Для этого напишем функцию разделения выборки на обучающую и остальную. А остальную разделим на валидационную и тестовую. Функция возвращает словарь по каждой из выборок.\n",
    "Например:\n",
    "\n",
    "\n",
    " df_data['train']['X'] - это features обучающей выборки\n",
    "\n",
    "\n",
    " df_data['test']['y'] - это targets тестовой выборки"
   ]
  },
  {
   "cell_type": "code",
   "execution_count": 35,
   "metadata": {
    "pycharm": {
     "name": "#%%\n"
    }
   },
   "outputs": [],
   "source": [
    "# split data to train, validation and test samples\n",
    "# train_rem_size is proportion between train and remain samples\n",
    "# valid_test_size is proportion between valid and test samples in remain part\n",
    "def split_train_valid_test(X, y, train_rem_size, valid_test_size):\n",
    "\n",
    "    #split to train and remain\n",
    "    X_train, X_rem, y_train, y_rem = train_test_split(X, y, train_size=train_rem_size, random_state=123)\n",
    "\n",
    "    #split to valid and test\n",
    "    X_valid, X_test, y_valid, y_test = train_test_split(X_rem, y_rem, train_size=valid_test_size, random_state=123)\n",
    "\n",
    "    df_data = {'train': {'X': X_train, 'y': y_train},\n",
    "               'valid': {'X': X_valid, 'y': y_valid},\n",
    "               'test': {'X': X_test, 'y': y_test}}\n",
    "\n",
    "    return df_data"
   ]
  },
  {
   "cell_type": "markdown",
   "metadata": {
    "pycharm": {
     "name": "#%% md\n"
    }
   },
   "source": [
    "Сделаем разделение"
   ]
  },
  {
   "cell_type": "code",
   "execution_count": 36,
   "metadata": {
    "pycharm": {
     "name": "#%%\n"
    }
   },
   "outputs": [],
   "source": [
    "X = df.drop(['Exited'], axis=1)\n",
    "y = df['Exited'].copy()\n",
    "data = split_train_valid_test(X, y, 0.8, 0.5)"
   ]
  },
  {
   "cell_type": "markdown",
   "metadata": {
    "pycharm": {
     "name": "#%% md\n"
    }
   },
   "source": [
    "Вывод: мы разбили выборку на обучающую и остальную в пропорции 0.8 к 0.2. А остальную разбили попалам между валидационной и тестовой"
   ]
  },
  {
   "cell_type": "markdown",
   "metadata": {
    "pycharm": {
     "name": "#%% md\n"
    }
   },
   "source": [
    "## Обучение моделей без учета дисбаланса в классах"
   ]
  },
  {
   "cell_type": "markdown",
   "metadata": {
    "pycharm": {
     "name": "#%% md\n"
    }
   },
   "source": [
    "Напишем функцию которая будет возвращать GridSearch для моделей LogisticRegression, DecisionTreeClassifier, RandomForestClassifier с заданными параметрами скоринга, класса весов, кол-ва исполняемых потоков"
   ]
  },
  {
   "cell_type": "code",
   "execution_count": 37,
   "metadata": {
    "pycharm": {
     "name": "#%%\n"
    }
   },
   "outputs": [],
   "source": [
    "#return GridSearch for LogisticRegression, DecisionTreeClassifier, RandomForestClassifier with parameters\n",
    "def get_grid_params(\n",
    "                    depth=        10,\n",
    "                    est =         200,\n",
    "                    depth_step=   4,\n",
    "                    step_est =    10,\n",
    "                    scoring=      'f1',\n",
    "                    class_weight= None,\n",
    "                    njobs=        12,\n",
    "                    refit=        True):\n",
    "\n",
    "    pipeline = Pipeline([('clf', LogisticRegression(random_state=123))])\n",
    "    parameters = [\n",
    "        {\n",
    "            'clf': (LogisticRegression(random_state=123),),\n",
    "            'clf__class_weight': [class_weight]\n",
    "        }, {\n",
    "            'clf': (DecisionTreeClassifier(random_state=123),),\n",
    "            'clf__max_depth': range(1, depth, depth_step),\n",
    "            'clf__class_weight': [class_weight]\n",
    "\n",
    "        }, {\n",
    "            'clf': (RandomForestClassifier(random_state=123),),\n",
    "            'clf__n_estimators': range(1, est, step_est),\n",
    "            'clf__max_depth': range(1, depth, depth_step),\n",
    "            'clf__class_weight': [class_weight]\n",
    "\n",
    "        }\n",
    "    ]\n",
    "\n",
    "    return GridSearchCV(pipeline, parameters, scoring=scoring, n_jobs=njobs, refit=refit)"
   ]
  },
  {
   "cell_type": "markdown",
   "metadata": {
    "pycharm": {
     "name": "#%% md\n"
    }
   },
   "source": [
    "Напишем функцию, которая фитит данные в полученный GridSearch и выводит информацию о лучшей модели: основные параметры, F1 и AUC-ROC метрики для валидационной и тестовой модели"
   ]
  },
  {
   "cell_type": "code",
   "execution_count": 38,
   "metadata": {
    "pycharm": {
     "name": "#%%\n"
    }
   },
   "outputs": [],
   "source": [
    "# fit data in grid search and print best estimator parameters and\n",
    "# F1, AUC-ROC for valid and test samples\n",
    "def fit_and_results(data,\n",
    "                    grid_search):\n",
    "\n",
    "    grid_search.fit(data['train']['X'], data['train']['y'])\n",
    "    print('Best estimator parameters:')\n",
    "    print(grid_search.best_params_)\n",
    "    print('F1 valid score:')\n",
    "    print(grid_search.best_score_)\n",
    "    print('F1 test score:')\n",
    "    test_score = f1_score(grid_search.\n",
    "                          best_estimator_.\n",
    "                          predict(data['test']['X']), data['test']['y'])\n",
    "    print(test_score)\n",
    "    roc_valid_score = roc_auc_score(grid_search.\n",
    "                                    best_estimator_.\n",
    "                                    predict(data['valid']['X']), data['valid']['y'])\n",
    "    roc_test_score = roc_auc_score(grid_search.\n",
    "                                   best_estimator_.\n",
    "                                   predict(data['test']['X']), data['test']['y'])\n",
    "    print('AUC-ROC valid score:')\n",
    "    print(roc_valid_score)\n",
    "    print('AUC-ROC test score:')\n",
    "    print(roc_test_score)\n"
   ]
  },
  {
   "cell_type": "markdown",
   "metadata": {
    "pycharm": {
     "name": "#%% md\n"
    }
   },
   "source": [
    "Получим наилучшую модель без учета дисбаланса:"
   ]
  },
  {
   "cell_type": "code",
   "execution_count": 39,
   "metadata": {
    "pycharm": {
     "name": "#%%\n"
    }
   },
   "outputs": [
    {
     "name": "stdout",
     "output_type": "stream",
     "text": [
      "Best estimator parameters:\n",
      "{'clf': RandomForestClassifier(max_depth=21, n_estimators=151, random_state=123), 'clf__class_weight': None, 'clf__max_depth': 21, 'clf__n_estimators': 151}\n",
      "F1 valid score:\n",
      "0.58437433468992\n",
      "F1 test score:\n",
      "0.5602409638554217\n",
      "AUC-ROC valid score:\n",
      "0.8352815434153205\n",
      "AUC-ROC test score:\n",
      "0.8198863636363636\n"
     ]
    }
   ],
   "source": [
    "grid_search = get_grid_params(depth=30,\n",
    "                              depth_step=5,\n",
    "                              est=500,\n",
    "                              step_est=50,\n",
    "                              scoring='f1',\n",
    "                            )\n",
    "\n",
    "fit_and_results(data, grid_search)"
   ]
  },
  {
   "cell_type": "markdown",
   "metadata": {
    "pycharm": {
     "name": "#%% md\n"
    }
   },
   "source": [
    "Вывод: наилучшая модель без учета дисбаланса оказалась RandomForestClassifier(max_depth=21, n_estimators=151) и показала на тестовой выборке f1 = 0.56 и AUC-ROC = 0.83\n"
   ]
  },
  {
   "cell_type": "markdown",
   "metadata": {
    "pycharm": {
     "name": "#%% md\n"
    }
   },
   "source": [
    "<div class=\"alert alert-info\"> По твоему совету увеличил диапазоны depth\\est, добавил для них шаги. Пересчитал каждый этап, исправил вывод"
   ]
  },
  {
   "cell_type": "markdown",
   "metadata": {
    "pycharm": {
     "name": "#%% md\n"
    }
   },
   "source": [
    "## Обучeние моделей c учетом дисбаланса в классах"
   ]
  },
  {
   "cell_type": "markdown",
   "metadata": {
    "pycharm": {
     "name": "#%% md\n"
    }
   },
   "source": [
    "Получим наилучшую модель c учетом дисбаланса, для этого укажем параметр class_weight равным 'balanced':"
   ]
  },
  {
   "cell_type": "code",
   "execution_count": 40,
   "metadata": {
    "pycharm": {
     "name": "#%%\n"
    }
   },
   "outputs": [
    {
     "name": "stdout",
     "output_type": "stream",
     "text": [
      "Best estimator parameters:\n",
      "{'clf': RandomForestClassifier(class_weight='balanced', max_depth=9, n_estimators=141,\n",
      "                       random_state=123), 'clf__class_weight': 'balanced', 'clf__max_depth': 9, 'clf__n_estimators': 141}\n",
      "F1 valid score:\n",
      "0.6161108930129171\n",
      "F1 test score:\n",
      "0.6353467561521253\n",
      "AUC-ROC valid score:\n",
      "0.7610502658730798\n",
      "AUC-ROC test score:\n",
      "0.75637602558754\n"
     ]
    }
   ],
   "source": [
    "grid_search = get_grid_params(depth=17,\n",
    "                              depth_step=4,\n",
    "                              est=200,\n",
    "                              step_est=20,\n",
    "                              scoring='f1',\n",
    "                              class_weight='balanced',)\n",
    "\n",
    "fit_and_results(data, grid_search)"
   ]
  },
  {
   "cell_type": "markdown",
   "metadata": {
    "pycharm": {
     "name": "#%% md\n"
    }
   },
   "source": [
    "Вывод: балансировка классов увеличила F1(0.635 против 0.56), но уменьшила AUC-ROC(0.76 против 0.8)"
   ]
  },
  {
   "cell_type": "markdown",
   "metadata": {
    "pycharm": {
     "name": "#%% md\n"
    }
   },
   "source": [
    "Попробуем улучшить параметры с помощью апсемплинга. Для этого найдем отношение между положительными и отрицательными таргетами"
   ]
  },
  {
   "cell_type": "code",
   "execution_count": 41,
   "metadata": {
    "pycharm": {
     "name": "#%%\n"
    }
   },
   "outputs": [],
   "source": [
    "df = df.copy()\n",
    "n_repeat = round(len(df[df['Exited'] == 0]) / len(df[df['Exited'] == 1]))"
   ]
  },
  {
   "cell_type": "markdown",
   "metadata": {
    "pycharm": {
     "name": "#%% md\n"
    }
   },
   "source": [
    "Сделаем функцию для реализации апсемплинга"
   ]
  },
  {
   "cell_type": "code",
   "execution_count": 42,
   "metadata": {
    "pycharm": {
     "name": "#%%\n"
    }
   },
   "outputs": [],
   "source": [
    "def upsample(features, target, repeat):\n",
    "    features_zeros = features[target == 0]\n",
    "    features_ones = features[target == 1]\n",
    "    target_zeros = target[target == 0]\n",
    "    target_ones = target[target == 1]\n",
    "\n",
    "    features_upsampled = pd.concat([features_zeros] + [features_ones] * repeat)\n",
    "    target_upsampled = pd.concat([target_zeros] + [target_ones] * repeat)\n",
    "\n",
    "    features_upsampled, target_upsampled = shuffle(\n",
    "        features_upsampled, target_upsampled, random_state=123)\n",
    "\n",
    "    return features_upsampled, target_upsampled"
   ]
  },
  {
   "cell_type": "markdown",
   "metadata": {
    "pycharm": {
     "name": "#%% md\n"
    }
   },
   "source": [
    "Сделаем разделение и апсемплим обучающую выборку с помощью полученного соотношения"
   ]
  },
  {
   "cell_type": "code",
   "execution_count": 43,
   "metadata": {
    "pycharm": {
     "name": "#%%\n"
    }
   },
   "outputs": [],
   "source": [
    "data = split_train_valid_test(X, y, 0.8, 0.5)\n",
    "data['train']['X'], data['train']['y'] = upsample(data['train']['X'], data['train']['y'], n_repeat)"
   ]
  },
  {
   "cell_type": "markdown",
   "metadata": {
    "pycharm": {
     "name": "#%% md\n"
    }
   },
   "source": [
    "Проверим полученное соотношение таргетов"
   ]
  },
  {
   "cell_type": "code",
   "execution_count": 44,
   "metadata": {
    "pycharm": {
     "name": "#%%\n"
    }
   },
   "outputs": [
    {
     "data": {
      "text/plain": [
       "1    6492\n",
       "0    6377\n",
       "Name: Exited, dtype: int64"
      ]
     },
     "execution_count": 44,
     "metadata": {},
     "output_type": "execute_result"
    }
   ],
   "source": [
    "data['train']['y'].value_counts()"
   ]
  },
  {
   "cell_type": "markdown",
   "metadata": {
    "pycharm": {
     "name": "#%% md\n"
    }
   },
   "source": [
    "Найдем наилучшую модель"
   ]
  },
  {
   "cell_type": "markdown",
   "metadata": {},
   "source": []
  },
  {
   "cell_type": "code",
   "execution_count": 45,
   "metadata": {
    "pycharm": {
     "name": "#%%\n"
    }
   },
   "outputs": [
    {
     "name": "stdout",
     "output_type": "stream",
     "text": [
      "Best estimator parameters:\n",
      "{'clf': RandomForestClassifier(class_weight='balanced', max_depth=13, n_estimators=81,\n",
      "                       random_state=123), 'clf__class_weight': 'balanced', 'clf__max_depth': 13, 'clf__n_estimators': 81}\n",
      "F1 valid score:\n",
      "0.9312720773993393\n",
      "F1 test score:\n",
      "0.6201923076923076\n",
      "AUC-ROC valid score:\n",
      "0.7758835360597645\n",
      "AUC-ROC test score:\n",
      "0.7640407921962755\n"
     ]
    }
   ],
   "source": [
    "grid_search = get_grid_params(depth=17,\n",
    "                              depth_step=4,\n",
    "                              est=100,\n",
    "                              step_est=20,\n",
    "                              scoring='f1',\n",
    "                              class_weight='balanced',)\n",
    "\n",
    "fit_and_results(data, grid_search)"
   ]
  },
  {
   "cell_type": "code",
   "execution_count": null,
   "metadata": {
    "pycharm": {
     "name": "#%%\n"
    }
   },
   "outputs": [],
   "source": []
  },
  {
   "cell_type": "markdown",
   "metadata": {
    "pycharm": {
     "name": "#%% md\n"
    }
   },
   "source": [
    "Вывод: апсемплинг немного увеличил F1 метрику(0.64 против 0.635), и AUC-ROC (0.77 против 0.76) на тестовой модели."
   ]
  },
  {
   "cell_type": "markdown",
   "metadata": {
    "pycharm": {
     "name": "#%% md\n"
    }
   },
   "source": [
    "## Общий вывод:"
   ]
  },
  {
   "cell_type": "markdown",
   "metadata": {
    "pycharm": {
     "name": "#%% md\n"
    }
   },
   "source": [
    "Мы провели исследование клиентской базы \"Бета-Банка\". Целью работы было построение модели прогнозирующей уход клиента в ближайшее время. Мы заполнили пропуски и разделили выборки на обучающую, валидационую и тестовую. Меняя модели и их гиперпараметры, мы старались получить максимальный показатель F1. По результатам исследования полученная модель обладает следующими показателями на тестовом семпле:\n",
    "\n",
    "\n",
    "RandomForestClassifier(max_depth=13, n_estimators=161, class_weight='balanced'):\n",
    "F1:      0.641\n",
    "AUC-ROC: 0.77\n",
    "\n",
    "\n",
    "Рекомендации: сделать выгрузку с отсутствием пропусков в параметре 'Tenure' и сбалансированную по целевому показателю 'Exited'"
   ]
  }
 ],
 "metadata": {
  "ExecuteTimeLog": [
   {
    "duration": 1388,
    "start_time": "2021-11-02T09:35:26.076Z"
   },
   {
    "duration": 770,
    "start_time": "2021-11-02T09:35:27.467Z"
   },
   {
    "duration": 3236,
    "start_time": "2021-11-02T09:35:28.240Z"
   },
   {
    "duration": 10,
    "start_time": "2021-11-02T09:35:31.478Z"
   },
   {
    "duration": 34,
    "start_time": "2021-11-02T09:35:31.490Z"
   },
   {
    "duration": 28,
    "start_time": "2021-11-02T09:35:31.526Z"
   },
   {
    "duration": 11,
    "start_time": "2021-11-02T09:35:31.557Z"
   },
   {
    "duration": 14,
    "start_time": "2021-11-02T09:35:31.571Z"
   },
   {
    "duration": 43,
    "start_time": "2021-11-02T09:35:31.587Z"
   },
   {
    "duration": 12,
    "start_time": "2021-11-02T09:35:31.632Z"
   },
   {
    "duration": 18,
    "start_time": "2021-11-02T09:35:31.647Z"
   },
   {
    "duration": 9,
    "start_time": "2021-11-02T09:35:31.667Z"
   },
   {
    "duration": 50,
    "start_time": "2021-11-02T09:35:31.679Z"
   },
   {
    "duration": 7,
    "start_time": "2021-11-02T09:35:31.732Z"
   },
   {
    "duration": 10,
    "start_time": "2021-11-02T09:35:31.742Z"
   },
   {
    "duration": 304539,
    "start_time": "2021-11-02T09:35:31.754Z"
   },
   {
    "duration": 139670,
    "start_time": "2021-11-02T09:40:36.295Z"
   },
   {
    "duration": 13,
    "start_time": "2021-11-02T09:42:55.969Z"
   },
   {
    "duration": 8,
    "start_time": "2021-11-02T09:42:55.994Z"
   },
   {
    "duration": 41,
    "start_time": "2021-11-02T09:42:56.006Z"
   },
   {
    "duration": 10,
    "start_time": "2021-11-02T09:42:56.050Z"
   },
   {
    "duration": 200725,
    "start_time": "2021-11-02T09:42:56.063Z"
   },
   {
    "duration": 479,
    "start_time": "2021-11-02T10:08:56.372Z"
   },
   {
    "duration": 26650,
    "start_time": "2021-11-02T10:09:18.967Z"
   },
   {
    "duration": 1348,
    "start_time": "2021-11-02T10:09:52.279Z"
   },
   {
    "duration": 1332,
    "start_time": "2021-11-03T05:28:29.693Z"
   },
   {
    "duration": 298,
    "start_time": "2021-11-03T05:28:31.027Z"
   },
   {
    "duration": 3195,
    "start_time": "2021-11-03T05:28:31.327Z"
   },
   {
    "duration": 9,
    "start_time": "2021-11-03T05:28:34.524Z"
   },
   {
    "duration": 12,
    "start_time": "2021-11-03T05:28:34.535Z"
   },
   {
    "duration": 44,
    "start_time": "2021-11-03T05:28:34.549Z"
   },
   {
    "duration": 11,
    "start_time": "2021-11-03T05:28:34.595Z"
   },
   {
    "duration": 14,
    "start_time": "2021-11-03T05:28:34.609Z"
   },
   {
    "duration": 22,
    "start_time": "2021-11-03T05:28:34.627Z"
   },
   {
    "duration": 44,
    "start_time": "2021-11-03T05:28:34.651Z"
   },
   {
    "duration": 19,
    "start_time": "2021-11-03T05:28:34.698Z"
   },
   {
    "duration": 17,
    "start_time": "2021-11-03T05:28:34.720Z"
   },
   {
    "duration": 50,
    "start_time": "2021-11-03T05:28:34.739Z"
   },
   {
    "duration": 10,
    "start_time": "2021-11-03T05:28:34.791Z"
   },
   {
    "duration": 11,
    "start_time": "2021-11-03T05:28:34.803Z"
   },
   {
    "duration": 1371,
    "start_time": "2021-11-03T06:06:13.144Z"
   },
   {
    "duration": 298,
    "start_time": "2021-11-03T06:06:14.518Z"
   },
   {
    "duration": 3262,
    "start_time": "2021-11-03T06:06:14.843Z"
   },
   {
    "duration": 9,
    "start_time": "2021-11-03T06:06:18.107Z"
   },
   {
    "duration": 10,
    "start_time": "2021-11-03T06:06:18.119Z"
   },
   {
    "duration": 17,
    "start_time": "2021-11-03T06:06:18.131Z"
   },
   {
    "duration": 12,
    "start_time": "2021-11-03T06:06:18.181Z"
   },
   {
    "duration": 13,
    "start_time": "2021-11-03T06:06:18.195Z"
   },
   {
    "duration": 22,
    "start_time": "2021-11-03T06:06:18.210Z"
   },
   {
    "duration": 11,
    "start_time": "2021-11-03T06:06:19.080Z"
   },
   {
    "duration": 18,
    "start_time": "2021-11-03T06:06:20.008Z"
   },
   {
    "duration": 5,
    "start_time": "2021-11-03T06:06:23.065Z"
   },
   {
    "duration": 12,
    "start_time": "2021-11-03T06:06:25.707Z"
   },
   {
    "duration": 7,
    "start_time": "2021-11-03T06:06:29.789Z"
   },
   {
    "duration": 7,
    "start_time": "2021-11-03T06:06:31.270Z"
   },
   {
    "duration": 1155,
    "start_time": "2021-11-03T06:13:54.151Z"
   },
   {
    "duration": 214,
    "start_time": "2021-11-03T06:13:55.310Z"
   },
   {
    "duration": 475,
    "start_time": "2021-11-03T06:14:14.898Z"
   },
   {
    "duration": 305,
    "start_time": "2021-11-03T10:51:39.013Z"
   }
  ],
  "kernelspec": {
   "display_name": "Python 3",
   "language": "python",
   "name": "python3"
  },
  "language_info": {
   "codemirror_mode": {
    "name": "ipython",
    "version": 3
   },
   "file_extension": ".py",
   "mimetype": "text/x-python",
   "name": "python",
   "nbconvert_exporter": "python",
   "pygments_lexer": "ipython3",
   "version": "3.9.6"
  },
  "toc": {
   "base_numbering": 1,
   "nav_menu": {},
   "number_sections": true,
   "sideBar": true,
   "skip_h1_title": true,
   "title_cell": "Table of Contents",
   "title_sidebar": "Contents",
   "toc_cell": false,
   "toc_position": {},
   "toc_section_display": true,
   "toc_window_display": false
  }
 },
 "nbformat": 4,
 "nbformat_minor": 1
}
